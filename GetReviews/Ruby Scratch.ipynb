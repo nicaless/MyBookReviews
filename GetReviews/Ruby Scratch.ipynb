{
 "cells": [
  {
   "cell_type": "code",
   "execution_count": 1,
   "metadata": {
    "collapsed": false
   },
   "outputs": [
    {
     "name": "stdout",
     "output_type": "stream",
     "text": [
      "Hello Ruby\n"
     ]
    }
   ],
   "source": [
    "puts \"Hello Ruby\""
   ]
  },
  {
   "cell_type": "code",
   "execution_count": 4,
   "metadata": {
    "collapsed": false
   },
   "outputs": [
    {
     "data": {
      "text/plain": [
       "true"
      ]
     },
     "execution_count": 4,
     "metadata": {},
     "output_type": "execute_result"
    }
   ],
   "source": [
    "require 'goodreads'"
   ]
  },
  {
   "cell_type": "code",
   "execution_count": 1,
   "metadata": {
    "collapsed": true
   },
   "outputs": [],
   "source": [
    "#https://github.com/sosedoff/goodreads"
   ]
  },
  {
   "cell_type": "code",
   "execution_count": 5,
   "metadata": {
    "collapsed": false
   },
   "outputs": [
    {
     "data": {
      "text/plain": [
       "#<Goodreads::Client:0x007fdf81807448 @api_key=\"1Oz0zwVfQCWHFPYu48h8Ag\", @api_secret=\"xlFREiDy54w2MsY2MWpKeqkjJgvZaCuWNrH6kVqA\", @oauth_token=nil>"
      ]
     },
     "execution_count": 5,
     "metadata": {},
     "output_type": "execute_result"
    }
   ],
   "source": [
    "client = Goodreads::Client.new(api_key: \"1Oz0zwVfQCWHFPYu48h8Ag\", api_secret: \"xlFREiDy54w2MsY2MWpKeqkjJgvZaCuWNrH6kVqA\")"
   ]
  },
  {
   "cell_type": "code",
   "execution_count": 15,
   "metadata": {
    "collapsed": false
   },
   "outputs": [
    {
     "data": {
      "text/plain": [
       "#<Hashie::Mash asin=\"\" authors=#<Hashie::Mash author=#<Hashie::Mash average_rating=\"3.94\" id=\"2868678\" image_url=\"\\nhttp://images.gr-assets.com/authors/1365253716p5/2868678.jpg\\n\" link=\"http://www.goodreads.com/author/show/2868678.Mary_Robinette_Kowal\" name=\"Mary Robinette Kowal\" ratings_count=\"48830\" role=nil small_image_url=\"\\nhttp://images.gr-assets.com/authors/1365253716p2/2868678.jpg\\n\" text_reviews_count=\"6412\">> average_rating=\"3.93\" book_links=#<Hashie::Mash book_link=#<Hashie::Mash id=\"8\" link=\"http://www.goodreads.com/book_link/follow/8\" name=\"Libraries\">> buy_links=#<Hashie::Mash buy_link=[#<Hashie::Mash id=\"1\" link=\"http://www.goodreads.com/book_link/follow/1\" name=\"Amazon\">, #<Hashie::Mash id=\"10\" link=\"http://www.goodreads.com/book_link/follow/10\" name=\"Audible\">, #<Hashie::Mash id=\"3\" link=\"http://www.goodreads.com/book_link/follow/3\" name=\"Barnes & Noble\">, #<Hashie::Mash id=\"1027\" link=\"http://www.goodreads.com/book_link/follow/1027\" name=\"Kobo\">, #<Hashie::Mash id=\"2102\" link=\"http://www.goodreads.com/book_link/follow/2102\" name=\"Apple iBooks\">, #<Hashie::Mash id=\"8036\" link=\"http://www.goodreads.com/book_link/follow/8036\" name=\"Google Play\">, #<Hashie::Mash id=\"4\" link=\"http://www.goodreads.com/book_link/follow/4\" name=\"Abebooks\">, #<Hashie::Mash id=\"882\" link=\"http://www.goodreads.com/book_link/follow/882\" name=\"Book Depository\">, #<Hashie::Mash id=\"9\" link=\"http://www.goodreads.com/book_link/follow/9\" name=\"Indigo\">, #<Hashie::Mash id=\"2\" link=\"http://www.goodreads.com/book_link/follow/2\" name=\"Half.com\">, #<Hashie::Mash id=\"5\" link=\"http://www.goodreads.com/book_link/follow/5\" name=\"Alibris\">, #<Hashie::Mash id=\"107\" link=\"http://www.goodreads.com/book_link/follow/107\" name=\"Better World Books\">, #<Hashie::Mash id=\"7\" link=\"http://www.goodreads.com/book_link/follow/7\" name=\"IndieBound\">]> country_code=\"US\" description=\"Ginger Stuyvesant, an American heiress living in London during World War I, is engaged to Captain Benjamin Harford, an intelligence officer. Ginger is a medium for the Spirit Corps, a special Spiritualist force.<br /><br />Each soldier heading for the front is conditioned to report to the mediums of the Spirit Corps when they die so the Corps can pass instant information about troop movements to military intelligence.<br /><br />Ginger and her fellow mediums contribute a great deal to the war efforts, so long as they pass the information through appropriate channels. While Ben is away at the front, Ginger discovers the presence of a traitor. Without the presence of her fiance to validate her findings, the top brass thinks she's just imagining things. Even worse, it is clear that the Spirit Corps is now being directly targeted by the German war effort. Left to her own devices, Ginger has to find out how the Germans are targeting the Spirit Corps and stop them. This is a difficult and dangerous task for a woman of that era, but this time both the spirit and the flesh are willing…\" edition_information=\"\" format=\"Hardcover\" id=\"26114291\" image_url=\"http://images.gr-assets.com/books/1443810185m/26114291.jpg\" is_ebook=\"false\" isbn=\"0765378256\" isbn13=\"9780765378255\" kindle_asin=\"B015MP6Y0M\" language_code=\"eng\" link=\"http://www.goodreads.com/book/show/26114291-ghost-talkers\" marketplace_id=\"ATVPDKIKX0DER\" num_pages=\"304\" popular_shelves=#<Hashie::Mash shelf=[#<Hashie::Mash count=\"6905\" name=\"to-read\">, #<Hashie::Mash count=\"248\" name=\"fantasy\">, #<Hashie::Mash count=\"125\" name=\"historical-fiction\">, #<Hashie::Mash count=\"109\" name=\"currently-reading\">, #<Hashie::Mash count=\"63\" name=\"historical\">, #<Hashie::Mash count=\"59\" name=\"paranormal\">, #<Hashie::Mash count=\"42\" name=\"alternate-history\">, #<Hashie::Mash count=\"37\" name=\"adult\">, #<Hashie::Mash count=\"28\" name=\"historical-fantasy\">, #<Hashie::Mash count=\"23\" name=\"ghosts\">, #<Hashie::Mash count=\"23\" name=\"2016-releases\">, #<Hashie::Mash count=\"20\" name=\"mystery\">, #<Hashie::Mash count=\"18\" name=\"science-fiction\">, #<Hashie::Mash count=\"18\" name=\"fiction\">, #<Hashie::Mash count=\"17\" name=\"netgalley\">, #<Hashie::Mash count=\"15\" name=\"urban-fantasy\">, #<Hashie::Mash count=\"15\" name=\"supernatural\">, #<Hashie::Mash count=\"15\" name=\"maybe\">, #<Hashie::Mash count=\"14\" name=\"read-in-2016\">, #<Hashie::Mash count=\"14\" name=\"to-buy\">, #<Hashie::Mash count=\"13\" name=\"audiobook\">, #<Hashie::Mash count=\"13\" name=\"sci-fi-fantasy\">, #<Hashie::Mash count=\"12\" name=\"war\">, #<Hashie::Mash count=\"12\" name=\"wish-list\">, #<Hashie::Mash count=\"11\" name=\"romance\">, #<Hashie::Mash count=\"11\" name=\"read-2016\">, #<Hashie::Mash count=\"10\" name=\"sci-fi\">, #<Hashie::Mash count=\"10\" name=\"ebook\">, #<Hashie::Mash count=\"9\" name=\"audiobooks\">, #<Hashie::Mash count=\"9\" name=\"arcs\">, #<Hashie::Mash count=\"9\" name=\"wwi\">, #<Hashie::Mash count=\"8\" name=\"arc\">, #<Hashie::Mash count=\"8\" name=\"scifi-fantasy\">, #<Hashie::Mash count=\"8\" name=\"world-war-i\">, #<Hashie::Mash count=\"8\" name=\"stand-alone\">, #<Hashie::Mash count=\"7\" name=\"owned\">, #<Hashie::Mash count=\"7\" name=\"history\">, #<Hashie::Mash count=\"7\" name=\"library\">, #<Hashie::Mash count=\"7\" name=\"to-read-fantasy\">, #<Hashie::Mash count=\"6\" name=\"audible\">, #<Hashie::Mash count=\"6\" name=\"favorites\">, #<Hashie::Mash count=\"6\" name=\"audio\">, #<Hashie::Mash count=\"6\" name=\"fantasy-sci-fi\">, #<Hashie::Mash count=\"6\" name=\"alt-history\">, #<Hashie::Mash count=\"6\" name=\"published-2016\">, #<Hashie::Mash count=\"6\" name=\"speculative-fiction\">, #<Hashie::Mash count=\"6\" name=\"fiction-historical\">, #<Hashie::Mash count=\"6\" name=\"2016-release\">, #<Hashie::Mash count=\"6\" name=\"2016-books\">, #<Hashie::Mash count=\"5\" name=\"borrowed\">, #<Hashie::Mash count=\"5\" name=\"library-books\">, #<Hashie::Mash count=\"5\" name=\"adult-fantasy\">, #<Hashie::Mash count=\"5\" name=\"interested\">, #<Hashie::Mash count=\"5\" name=\"2016-august\">, #<Hashie::Mash count=\"5\" name=\"sff\">, #<Hashie::Mash count=\"5\" name=\"august-2016\">, #<Hashie::Mash count=\"5\" name=\"england\">, #<Hashie::Mash count=\"5\" name=\"to-get\">, #<Hashie::Mash count=\"5\" name=\"2016-reads\">, #<Hashie::Mash count=\"5\" name=\"tor\">, #<Hashie::Mash count=\"4\" name=\"fantasy-scifi\">, #<Hashie::Mash count=\"4\" name=\"paranormal-supernatural\">, #<Hashie::Mash count=\"4\" name=\"kindle\">, #<Hashie::Mash count=\"4\" name=\"on-hold\">, #<Hashie::Mash count=\"4\" name=\"female-author\">, #<Hashie::Mash count=\"4\" name=\"2016-reading-challenge\">, #<Hashie::Mash count=\"4\" name=\"young-adult\">, #<Hashie::Mash count=\"4\" name=\"genre-fantasy\">, #<Hashie::Mash count=\"4\" name=\"adult-fiction\">, #<Hashie::Mash count=\"4\" name=\"sounds-interesting\">, #<Hashie::Mash count=\"4\" name=\"not-yet-released\">, #<Hashie::Mash count=\"4\" name=\"fantasy-to-read\">, #<Hashie::Mash count=\"3\" name=\"to-read-historical-fiction\">, #<Hashie::Mash count=\"3\" name=\"novels\">, #<Hashie::Mash count=\"3\" name=\"adventure\">, #<Hashie::Mash count=\"3\" name=\"dnf\">, #<Hashie::Mash count=\"3\" name=\"kobo\">, #<Hashie::Mash count=\"3\" name=\"military\">, #<Hashie::Mash count=\"3\" name=\"magic\">, #<Hashie::Mash count=\"3\" name=\"to-read-not-owned\">, #<Hashie::Mash count=\"3\" name=\"reviewed\">, #<Hashie::Mash count=\"3\" name=\"mystery-thriller\">, #<Hashie::Mash count=\"3\" name=\"science-fiction-fantasy\">, #<Hashie::Mash count=\"3\" name=\"2017\">, #<Hashie::Mash count=\"3\" name=\"ya\">, #<Hashie::Mash count=\"3\" name=\"ebooks\">, #<Hashie::Mash count=\"3\" name=\"for-review\">, #<Hashie::Mash count=\"3\" name=\"espionage\">, #<Hashie::Mash count=\"3\" name=\"books-i-own\">, #<Hashie::Mash count=\"3\" name=\"thriller\">, #<Hashie::Mash count=\"3\" name=\"maybe-to-read\">, #<Hashie::Mash count=\"3\" name=\"scifi\">, #<Hashie::Mash count=\"3\" name=\"bea16\">, #<Hashie::Mash count=\"3\" name=\"ghost\">, #<Hashie::Mash count=\"3\" name=\"standalone\">, #<Hashie::Mash count=\"3\" name=\"alternate-reality\">, #<Hashie::Mash count=\"3\" name=\"fiction-to-read\">, #<Hashie::Mash count=\"3\" name=\"sf-f\">, #<Hashie::Mash count=\"3\" name=\"spies\">, #<Hashie::Mash count=\"3\" name=\"tbr-fantasy\">]> publication_day=\"16\" publication_month=\"8\" publication_year=\"2016\" publisher=\"Tor Books\" ratings_count=\"853\" reviews_widget=\"\\n      \\n        <style>\\n  #goodreads-widget {\\n    font-family: georgia, serif;\\n    padding: 18px 0;\\n    width:565px;\\n  }\\n  #goodreads-widget h1 {\\n    font-weight:normal;\\n    font-size: 16px;\\n    border-bottom: 1px solid #BBB596;\\n    margin-bottom: 0;\\n  }\\n  #goodreads-widget a {\\n    text-decoration: none;\\n    color:#660;\\n  }\\n  iframe{\\n    background-color: #fff;\\n  }\\n  #goodreads-widget a:hover { text-decoration: underline; }\\n  #goodreads-widget a:active {\\n    color:#660;\\n  }\\n  #gr_footer {\\n    width: 100%;\\n    border-top: 1px solid #BBB596;\\n    text-align: right;\\n  }\\n  #goodreads-widget .gr_branding{\\n    color: #382110;\\n    font-size: 11px;\\n    text-decoration: none;\\n    font-family: \\\"Helvetica Neue\\\", Helvetica, Arial, sans-serif;\\n  }\\n</style>\\n<div id=\\\"goodreads-widget\\\">\\n  <div id=\\\"gr_header\\\"><h1><a href=\\\"http://www.goodreads.com/book/show/26114291-ghost-talkers\\\">Ghost Talkers Reviews</a></h1></div>\\n  <iframe id=\\\"the_iframe\\\" src=\\\"http://www.goodreads.com/api/reviews_widget_iframe?did=DEVELOPER_ID&amp;format=html&amp;isbn=0765378256&amp;links=660&amp;min_rating=&amp;review_back=fff&amp;stars=000&amp;text=000\\\" width=\\\"565\\\" height=\\\"400\\\" frameborder=\\\"0\\\"></iframe>\\n  <div id=\\\"gr_footer\\\">\\n    <a class=\\\"gr_branding\\\" target=\\\"_blank\\\" href=\\\"http://www.goodreads.com/book/show/26114291-ghost-talkers?utm_medium=api&amp;utm_source=reviews_widget\\\">Reviews from Goodreads.com</a>\\n  </div>\\n</div>\\n\\n      \\n    \" series_works=\"\\n    \\n  \" similar_books=#<Hashie::Mash book=[#<Hashie::Mash authors=#<Hashie::Mash author=#<Hashie::Mash id=\"14757755\" link=\"http://www.goodreads.com/author/show/14757755.Destiny_Soria\" name=\"Destiny Soria\">> average_rating=\"3.84\" id=\"28818313\" image_url=\"http://images.gr-assets.com/books/1456595105m/28818313.jpg\" isbn=\"1419721925\" isbn13=\"9781419721922\" link=\"http://www.goodreads.com/book/show/28818313-iron-cast\" num_pages=nil publication_day=nil publication_month=nil publication_year=nil ratings_count=\"337\" small_image_url=\"http://images.gr-assets.com/books/1456595105s/28818313.jpg\" title=\"Iron Cast\" title_without_series=\"Iron Cast\" work=#<Hashie::Mash id=\"48183733\">>, #<Hashie::Mash authors=#<Hashie::Mash author=#<Hashie::Mash id=\"806782\" link=\"http://www.goodreads.com/author/show/806782.Nisi_Shawl\" name=\"Nisi Shawl\">> average_rating=\"3.36\" id=\"26114130\" image_url=\"http://images.gr-assets.com/books/1445423571m/26114130.jpg\" isbn=\"076533805X\" isbn13=\"9780765338051\" link=\"http://www.goodreads.com/book/show/26114130-everfair\" num_pages=\"381\" publication_day=\"6\" publication_month=\"9\" publication_year=\"2016\" ratings_count=\"182\" small_image_url=\"http://images.gr-assets.com/books/1445423571s/26114130.jpg\" title=\"Everfair\" title_without_series=\"Everfair\" work=#<Hashie::Mash id=\"46061074\">>, #<Hashie::Mash authors=#<Hashie::Mash author=#<Hashie::Mash id=\"3299538\" link=\"http://www.goodreads.com/author/show/3299538.Foz_Meadows\" name=\"Foz Meadows\">> average_rating=\"3.79\" id=\"26225506\" image_url=\"http://images.gr-assets.com/books/1455570037m/26225506.jpg\" isbn=nil isbn13=nil link=\"http://www.goodreads.com/book/show/26225506-an-accident-of-stars\" num_pages=\"496\" publication_day=\"2\" publication_month=\"8\" publication_year=\"2016\" ratings_count=\"112\" small_image_url=\"http://images.gr-assets.com/books/1455570037s/26225506.jpg\" title=\"An Accident of Stars\" title_without_series=\"An Accident of Stars\" work=#<Hashie::Mash id=\"46210109\">>, #<Hashie::Mash authors=#<Hashie::Mash author=#<Hashie::Mash id=\"2937730\" link=\"http://www.goodreads.com/author/show/2937730.Beth_Cato\" name=\"Beth Cato\">> average_rating=\"3.71\" id=\"27213224\" image_url=\"http://images.gr-assets.com/books/1453486775m/27213224.jpg\" isbn=\"0062422065\" isbn13=\"9780062422064\" link=\"http://www.goodreads.com/book/show/27213224-breath-of-earth\" num_pages=\"400\" publication_day=\"23\" publication_month=\"8\" publication_year=\"2016\" ratings_count=\"164\" small_image_url=\"http://images.gr-assets.com/books/1453486775s/27213224.jpg\" title=\"Breath Of Earth (Breath of Earth, #1)\" title_without_series=\"Breath Of Earth\" work=#<Hashie::Mash id=\"45592898\">>, #<Hashie::Mash authors=#<Hashie::Mash author=#<Hashie::Mash id=\"14032\" link=\"http://www.goodreads.com/author/show/14032.Connie_Willis\" name=\"Connie Willis\">> average_rating=\"3.68\" id=\"25430248\" image_url=\"http://images.gr-assets.com/books/1458672086m/25430248.jpg\" isbn=\"0345540689\" isbn13=\"9780345540683\" link=\"http://www.goodreads.com/book/show/25430248-crosstalk\" num_pages=\"592\" publication_day=\"20\" publication_month=\"9\" publication_year=\"2016\" ratings_count=\"1008\" small_image_url=\"http://images.gr-assets.com/books/1458672086s/25430248.jpg\" title=\"Crosstalk\" title_without_series=\"Crosstalk\" work=#<Hashie::Mash id=\"45191175\">>, #<Hashie::Mash authors=#<Hashie::Mash author=#<Hashie::Mash id=\"7973819\" link=\"http://www.goodreads.com/author/show/7973819.Jacey_Bedford\" name=\"Jacey Bedford\">> average_rating=\"3.51\" id=\"25489511\" image_url=\"http://images.gr-assets.com/books/1446165456m/25489511.jpg\" isbn=\"0756410150\" isbn13=\"9780756410155\" link=\"http://www.goodreads.com/book/show/25489511-winterwood\" num_pages=\"432\" publication_day=\"2\" publication_month=\"2\" publication_year=\"2016\" ratings_count=\"250\" small_image_url=\"http://images.gr-assets.com/books/1446165456s/25489511.jpg\" title=\"Winterwood (Rowankind, #1)\" title_without_series=\"Winterwood\" work=#<Hashie::Mash id=\"45263887\">>, #<Hashie::Mash authors=#<Hashie::Mash author=#<Hashie::Mash id=\"6536659\" link=\"http://www.goodreads.com/author/show/6536659.Melissa_F_Olson\" name=\"Melissa F. Olson\">> average_rating=\"3.76\" id=\"28765742\" image_url=\"http://images.gr-assets.com/books/1454686375m/28765742.jpg\" isbn=nil isbn13=nil link=\"http://www.goodreads.com/book/show/28765742-nightshades\" num_pages=\"208\" publication_day=nil publication_month=nil publication_year=nil ratings_count=\"356\" small_image_url=\"http://images.gr-assets.com/books/1454686375s/28765742.jpg\" title=\"Nightshades\" title_without_series=\"Nightshades\" work=#<Hashie::Mash id=\"46727690\">>, #<Hashie::Mash authors=#<Hashie::Mash author=#<Hashie::Mash id=\"2917917\" link=\"http://www.goodreads.com/author/show/2917917.N_K_Jemisin\" name=\"N.K. Jemisin\">> average_rating=\"4.40\" id=\"26228034\" image_url=\"http://images.gr-assets.com/books/1441406262m/26228034.jpg\" isbn=\"0356508366\" isbn13=\"9780356508368\" link=\"http://www.goodreads.com/book/show/26228034-the-obelisk-gate\" num_pages=\"448\" publication_day=\"18\" publication_month=\"8\" publication_year=\"2016\" ratings_count=\"3185\" small_image_url=\"http://images.gr-assets.com/books/1441406262s/26228034.jpg\" title=\"The Obelisk Gate (The Broken Earth, #2)\" title_without_series=\"The Obelisk Gate\" work=#<Hashie::Mash id=\"46213537\">>, #<Hashie::Mash authors=#<Hashie::Mash author=#<Hashie::Mash id=\"4493935\" link=\"http://www.goodreads.com/author/show/4493935.Andrea_K_H_st\" name=\"Andrea K. Höst\">> average_rating=\"4.20\" id=\"18709832\" image_url=\"http://images.gr-assets.com/books/1438808552m/18709832.jpg\" isbn=nil isbn13=nil link=\"http://www.goodreads.com/book/show/18709832-snug-ship\" num_pages=nil publication_day=nil publication_month=nil publication_year=\"2017\" ratings_count=\"5\" small_image_url=\"http://images.gr-assets.com/books/1438808552s/18709832.jpg\" title=\"Snug Ship (The Singularity Game, #1)\" title_without_series=\"Snug Ship\" work=#<Hashie::Mash id=\"26567540\">>, #<Hashie::Mash authors=#<Hashie::Mash author=#<Hashie::Mash id=\"10746\" link=\"http://www.goodreads.com/author/show/10746.Jim_Butcher\" name=\"Jim Butcher\">> average_rating=\"3.88\" id=\"28941103\" image_url=\"http://images.gr-assets.com/books/1456489873m/28941103.jpg\" isbn=\"0451474996\" isbn13=\"9780451474995\" link=\"http://www.goodreads.com/book/show/28941103-shadowed-souls\" num_pages=\"352\" publication_day=\"1\" publication_month=\"11\" publication_year=\"2016\" ratings_count=\"269\" small_image_url=\"http://images.gr-assets.com/books/1456489873s/28941103.jpg\" title=\"Shadowed Souls\" title_without_series=\"Shadowed Souls\" work=#<Hashie::Mash id=\"49162123\">>, #<Hashie::Mash authors=#<Hashie::Mash author=#<Hashie::Mash id=\"13451714\" link=\"http://www.goodreads.com/author/show/13451714.Lila_Bowen\" name=\"Lila Bowen\">> average_rating=\"3.92\" id=\"26038869\" image_url=\"http://images.gr-assets.com/books/1464028322m/26038869.jpg\" isbn=\"0316302279\" isbn13=\"9780316302272\" link=\"http://www.goodreads.com/book/show/26038869-conspiracy-of-ravens\" num_pages=\"359\" publication_day=\"11\" publication_month=\"10\" publication_year=\"2016\" ratings_count=\"121\" small_image_url=\"http://images.gr-assets.com/books/1464028322s/26038869.jpg\" title=\"Conspiracy of Ravens (The Shadow, #2)\" title_without_series=\"Conspiracy of Ravens\" work=#<Hashie::Mash id=\"45966225\">>, #<Hashie::Mash authors=#<Hashie::Mash author=#<Hashie::Mash id=\"3405346\" link=\"http://www.goodreads.com/author/show/3405346.Max_Gladstone\" name=\"Max Gladstone\">> average_rating=\"4.41\" id=\"26114222\" image_url=\"http://images.gr-assets.com/books/1443028346m/26114222.jpg\" isbn=\"0765379422\" isbn13=\"9780765379429\" link=\"http://www.goodreads.com/book/show/26114222-four-roads-cross\" num_pages=\"416\" publication_day=\"26\" publication_month=\"7\" publication_year=\"2016\" ratings_count=\"408\" small_image_url=\"http://images.gr-assets.com/books/1443028346s/26114222.jpg\" title=\"Four Roads Cross (Craft Sequence, #5)\" title_without_series=\"Four Roads Cross\" work=#<Hashie::Mash id=\"46061143\">>, #<Hashie::Mash authors=#<Hashie::Mash author=#<Hashie::Mash id=\"1988739\" link=\"http://www.goodreads.com/author/show/1988739.David_D_Levine\" name=\"David D. Levine\">> average_rating=\"3.69\" id=\"25615226\" image_url=\"http://images.gr-assets.com/books/1443159459m/25615226.jpg\" isbn=nil isbn13=nil link=\"http://www.goodreads.com/book/show/25615226-arabella-of-mars\" num_pages=\"320\" publication_day=\"12\" publication_month=\"7\" publication_year=\"2016\" ratings_count=\"336\" small_image_url=\"http://images.gr-assets.com/books/1443159459s/25615226.jpg\" title=\"Arabella of Mars\" title_without_series=\"Arabella of Mars\" work=#<Hashie::Mash id=\"45426319\">>, #<Hashie::Mash authors=#<Hashie::Mash author=#<Hashie::Mash id=\"4369922\" link=\"http://www.goodreads.com/author/show/4369922.Kameron_Hurley\" name=\"Kameron Hurley\">> average_rating=\"4.33\" id=\"16052539\" image_url=\"http://images.gr-assets.com/books/1455380949m/16052539.jpg\" isbn=nil isbn13=nil link=\"http://www.goodreads.com/book/show/16052539-the-stars-are-legion\" num_pages=\"400\" publication_day=\"7\" publication_month=\"2\" publication_year=\"2017\" ratings_count=\"9\" small_image_url=\"http://images.gr-assets.com/books/1455380949s/16052539.jpg\" title=\"The Stars Are Legion\" title_without_series=\"The Stars Are Legion\" work=#<Hashie::Mash id=\"21836212\">>, #<Hashie::Mash authors=#<Hashie::Mash author=#<Hashie::Mash id=\"99117\" link=\"http://www.goodreads.com/author/show/99117.Sarah_Beth_Durst\" name=\"Sarah Beth Durst\">> average_rating=\"3.82\" id=\"23510085\" image_url=\"http://s.gr-assets.com/assets/nophoto/book/111x148-bcc042a9c91a29c1d680899eff700a03.png\" isbn=nil isbn13=nil link=\"http://www.goodreads.com/book/show/23510085-fire-and-heist\" num_pages=nil publication_day=nil publication_month=nil publication_year=\"2017\" ratings_count=\"49\" small_image_url=\"http://s.gr-assets.com/assets/nophoto/book/50x75-a91bf249278a81aabab721ef782c4a74.png\" title=\"Fire and Heist\" title_without_series=\"Fire and Heist\" work=#<Hashie::Mash id=\"43113500\">>, #<Hashie::Mash authors=#<Hashie::Mash author=#<Hashie::Mash id=\"105839\" link=\"http://www.goodreads.com/author/show/105839.Marie_Brennan\" name=\"Marie Brennan\">> average_rating=\"4.34\" id=\"25481955\" image_url=\"http://images.gr-assets.com/books/1430930426m/25481955.jpg\" isbn=nil isbn13=nil link=\"http://www.goodreads.com/book/show/25481955-in-the-labyrinth-of-drakes\" num_pages=\"352\" publication_day=\"5\" publication_month=\"4\" publication_year=\"2016\" ratings_count=\"911\" small_image_url=\"http://images.gr-assets.com/books/1430930426s/25481955.jpg\" title=\"In the Labyrinth of Drakes (The Memoirs of Lady Trent #4)\" title_without_series=\"In the Labyrinth of Drakes\" work=#<Hashie::Mash id=\"45254499\">>, #<Hashie::Mash authors=#<Hashie::Mash author=#<Hashie::Mash id=\"612167\" link=\"http://www.goodreads.com/author/show/612167.Sarah_Kuhn\" name=\"Sarah Kuhn\">> average_rating=\"3.72\" id=\"27209443\" image_url=\"http://images.gr-assets.com/books/1460482959m/27209443.jpg\" isbn=\"0756410843\" isbn13=\"9780756410841\" link=\"http://www.goodreads.com/book/show/27209443-heroine-complex\" num_pages=\"378\" publication_day=\"5\" publication_month=\"7\" publication_year=\"2016\" ratings_count=\"576\" small_image_url=\"http://images.gr-assets.com/books/1460482959s/27209443.jpg\" title=\"Heroine Complex (Heroine Complex, #1)\" title_without_series=\"Heroine Complex\" work=#<Hashie::Mash id=\"47250933\">>, #<Hashie::Mash authors=#<Hashie::Mash author=#<Hashie::Mash id=\"9237\" link=\"http://www.goodreads.com/author/show/9237.Jacqueline_Carey\" name=\"Jacqueline Carey\">> average_rating=\"4.40\" id=\"25670396\" image_url=\"http://images.gr-assets.com/books/1463498415m/25670396.jpg\" isbn=nil isbn13=nil link=\"http://www.goodreads.com/book/show/25670396-miranda-and-caliban\" num_pages=\"336\" publication_day=\"14\" publication_month=\"2\" publication_year=\"2017\" ratings_count=\"5\" small_image_url=\"http://images.gr-assets.com/books/1463498415s/25670396.jpg\" title=\"Miranda and Caliban\" title_without_series=\"Miranda and Caliban\" work=#<Hashie::Mash id=\"45494280\">>]> small_image_url=\"http://images.gr-assets.com/books/1443810185s/26114291.jpg\" text_reviews_count=\"267\" title=\"Ghost Talkers\" url=\"http://www.goodreads.com/book/show/26114291-ghost-talkers\" work=#<Hashie::Mash best_book_id=26114291 books_count=6 default_chaptering_book_id=nil default_description_language_code=nil desc_user_id=171430 id=46061192 media_type=\"book\" original_language_id=nil original_publication_day=16 original_publication_month=8 original_publication_year=2016 original_title=nil rating_dist=\"5:256|4:470|3:226|2:40|1:7|total:999\" ratings_count=999 ratings_sum=3925 reviews_count=8458 text_reviews_count=297>>"
      ]
     },
     "execution_count": 15,
     "metadata": {},
     "output_type": "execute_result"
    }
   ],
   "source": [
    "gt = client.book_by_title(\"Ghost Talkers\")"
   ]
  },
  {
   "cell_type": "code",
   "execution_count": 16,
   "metadata": {
    "collapsed": false
   },
   "outputs": [
    {
     "data": {
      "text/plain": [
       "\"26114291\""
      ]
     },
     "execution_count": 16,
     "metadata": {},
     "output_type": "execute_result"
    }
   ],
   "source": [
    "gt.id"
   ]
  },
  {
   "cell_type": "code",
   "execution_count": 23,
   "metadata": {
    "collapsed": false
   },
   "outputs": [
    {
     "data": {
      "text/plain": [
       "#<Hashie::Mash body=\"\\n  \" book=#<Hashie::Mash authors=#<Hashie::Mash author=#<Hashie::Mash average_rating=\"3.97\" id=\"3780\" image_url=\"\\nhttp://images.gr-assets.com/authors/1468347205p5/3780.jpg\\n\" link=\"http://www.goodreads.com/author/show/3780.James_Patterson\" name=\"James Patterson\" ratings_count=\"4207804\" role=nil small_image_url=\"\\nhttp://images.gr-assets.com/authors/1468347205p2/3780.jpg\\n\" text_reviews_count=\"193718\">> average_rating=\"3.81\" description=\"Lauren Stillwell is not your average damsel in distress. When the NYPD cop discovers her husband leaving a hotel with another woman, she decides to beat him at his own game. But her revenge goes dangerously awry, and she finds her world spiraling into a hell that becomes more terrifying by the hour.<br />In a further twist of fate, Lauren must take on a job that threatens everything she stands for. Now, she's paralyzed by a deadly secret that could tear her life apart. With her job and marriage on the line, Lauren's desire for retribution becomes a lethal inferno as she fights to save her livelihood--and her life.<br />Patterson takes us on a twisting roller-coaster ride of thrills in his most gripping novel yet. This story of love, lust and dangerous secrets will have readers' hearts pounding to the very last page.\" edition_information=nil format=\"Hardcover\" id=13133 image_url=\"http://s.gr-assets.com/assets/nophoto/book/111x148-bcc042a9c91a29c1d680899eff700a03.png\" isbn=\"0316117366\" isbn13=\"9780316117364\" large_image_url=nil link=\"http://www.goodreads.com/book/show/13133.The_Quickie\" num_pages=\"357\" publication_day=\"2\" publication_month=\"7\" publication_year=\"2007\" published=\"2007\" publisher=\"Little, Brown and Company\" ratings_count=\"31792\" small_image_url=\"http://s.gr-assets.com/assets/nophoto/book/50x75-a91bf249278a81aabab721ef782c4a74.png\" text_reviews_count=1885 title=\"The Quickie\"> comments_count=\"0\" date_added=\"Wed Jul 02 08:48:16 -0700 2008\" date_updated=\"Wed Jul 02 08:48:16 -0700 2008\" id=\"26114291\" link=\"http://www.goodreads.com/review/show/26114291\" owned=\"0\" rating=\"3\" read_at=nil read_count=nil recommended_by=nil recommended_for=nil shelves=#<Hashie::Mash shelf=#<Hashie::Mash exclusive=\"true\" name=\"read\">> spoiler_flag=\"false\" spoilers_state=\"none\" started_at=nil url=\"http://www.goodreads.com/review/show/26114291\" user=#<Hashie::Mash display_name=\"Alyson\" has_image=\"false\" id=\"1292336\" image_url=\"http://s.gr-assets.com/assets/nophoto/user/f_111x148-8060b12280b2aec7543bafb574ee8422.png\" link=\"http://www.goodreads.com/user/show/1292336-alyson\" location=\"Parsippany, NJ\" name=\"Alyson\" small_image_url=\"http://s.gr-assets.com/assets/nophoto/user/f_50x66-6a03a5c12233c941481992b82eea8d23.png\"> votes=\"0\">"
      ]
     },
     "execution_count": 23,
     "metadata": {},
     "output_type": "execute_result"
    }
   ],
   "source": [
    "client.review('26114291')"
   ]
  },
  {
   "cell_type": "code",
   "execution_count": null,
   "metadata": {
    "collapsed": true
   },
   "outputs": [],
   "source": []
  }
 ],
 "metadata": {
  "kernelspec": {
   "display_name": "Ruby 2.3.0",
   "language": "ruby",
   "name": "ruby"
  },
  "language_info": {
   "file_extension": ".rb",
   "mimetype": "application/x-ruby",
   "name": "ruby",
   "version": "2.3.0"
  }
 },
 "nbformat": 4,
 "nbformat_minor": 0
}
