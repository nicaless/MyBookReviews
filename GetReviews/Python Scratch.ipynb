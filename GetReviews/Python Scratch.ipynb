{
 "cells": [
  {
   "cell_type": "markdown",
   "metadata": {},
   "source": [
    "below is a python attempt\n",
    "\n",
    "try ruby!\n",
    "\n",
    "https://github.com/SciRuby/iruby <- get ruby notebook\n",
    "\n",
    "Or try amazon instead since goodreads api sucks\n",
    "\n",
    "https://pypi.python.org/pypi/amazon_scraper/0.2\n",
    "\n",
    "https://bitbucket.org/basti/python-amazon-product-api/src/602a5a298bc5e36137d3c3b14464b566af75e8ae/examples/reviews.py?at=default&fileviewer=file-view-default\n"
   ]
  },
  {
   "cell_type": "code",
   "execution_count": 33,
   "metadata": {
    "collapsed": false
   },
   "outputs": [],
   "source": [
    "import requests\n",
    "import json\n",
    "from amazonproduct import API\n",
    "# from goodreads import client\n",
    "# import goodreads\n",
    "# from goodreads import GoodreadsReview"
   ]
  },
  {
   "cell_type": "code",
   "execution_count": 26,
   "metadata": {
    "collapsed": false
   },
   "outputs": [],
   "source": [
    "# gc = client.GoodreadsClient('1Oz0zwVfQCWHFPYu48h8Ag', 'xlFREiDy54w2MsY2MWpKeqkjJgvZaCuWNrH6kVqA')"
   ]
  },
  {
   "cell_type": "code",
   "execution_count": 27,
   "metadata": {
    "collapsed": false
   },
   "outputs": [],
   "source": [
    "# gc.book()"
   ]
  },
  {
   "cell_type": "code",
   "execution_count": 28,
   "metadata": {
    "collapsed": true
   },
   "outputs": [],
   "source": [
    "#\"https://www.goodreads.com/book/show/50.xml?key=1Oz0zwVfQCWHFPYu48h8Ag\""
   ]
  },
  {
   "cell_type": "code",
   "execution_count": 29,
   "metadata": {
    "collapsed": true
   },
   "outputs": [],
   "source": [
    "testURL = \"https://www.goodreads.com/book/show/26114291.json?key=1Oz0zwVfQCWHFPYu48h8Ag\"\n",
    "test = requests.get(testURL)"
   ]
  },
  {
   "cell_type": "code",
   "execution_count": 32,
   "metadata": {
    "collapsed": false
   },
   "outputs": [
    {
     "data": {
      "text/plain": [
       "<Response [200]>"
      ]
     },
     "execution_count": 32,
     "metadata": {},
     "output_type": "execute_result"
    }
   ],
   "source": [
    "test"
   ]
  },
  {
   "cell_type": "code",
   "execution_count": null,
   "metadata": {
    "collapsed": true
   },
   "outputs": [],
   "source": []
  }
 ],
 "metadata": {
  "kernelspec": {
   "display_name": "Python 2",
   "language": "python",
   "name": "python2"
  },
  "language_info": {
   "codemirror_mode": {
    "name": "ipython",
    "version": 2
   },
   "file_extension": ".py",
   "mimetype": "text/x-python",
   "name": "python",
   "nbconvert_exporter": "python",
   "pygments_lexer": "ipython2",
   "version": "2.7.12"
  }
 },
 "nbformat": 4,
 "nbformat_minor": 0
}
